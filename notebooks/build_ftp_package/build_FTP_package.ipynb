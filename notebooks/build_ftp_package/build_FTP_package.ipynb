{
 "cells": [
  {
   "cell_type": "code",
   "execution_count": null,
   "id": "07cb4c56-a492-4093-83b5-d5d981c39b69",
   "metadata": {},
   "outputs": [],
   "source": [
    "import os\n",
    "import shutil\n",
    "import pandas as pd"
   ]
  },
  {
   "cell_type": "code",
   "execution_count": null,
   "id": "292137b2-b454-4624-a35e-5dfdf44af107",
   "metadata": {},
   "outputs": [],
   "source": [
    "wavdir = '/home/ddoukhan/inaGVADwav/'\n",
    "dst = '/tmp/inaGVAD'\n",
    "shutil.rmtree(dst)\n",
    "os.mkdir(dst)\n",
    "for e in ['LICENSE.txt', 'AUTHORS.txt', 'README.txt']:\n",
    "    shutil.copyfile(e, '%s/%s' % (dst, e))"
   ]
  },
  {
   "cell_type": "code",
   "execution_count": null,
   "id": "c0b12683-444b-4c64-bdf6-156404c9adb5",
   "metadata": {},
   "outputs": [],
   "source": [
    "ldf = []\n",
    "for e in ['dev', 'test']:\n",
    "    curdir = dst + '/' + e\n",
    "    os.mkdir(curdir)\n",
    "    df = pd.read_csv('../../annotations/filesplit/%sset.csv' % e)\n",
    "    df['set'] = e\n",
    "    ldf.append(df)\n",
    "    df.fileid.sort_values().to_csv('%s/inaGVAD_%sset.lst' % (dst, e), index=False, header=False)\n",
    "    for fileid in df.fileid:\n",
    "        shutil.copyfile('%s/%s.wav' % (wavdir, fileid), '%s/%s.wav' % (curdir, fileid))\n",
    "        shutil.copyfile('../../annotations/gender_uem/%s.uem' % (fileid), '%s/%s.sgs.uem' % (curdir, fileid))\n",
    "        shutil.copyfile('../../annotations/vad/%s.csv' % (fileid), '%s/%s.vad.csv' % (curdir, fileid))\n",
    "        shutil.copyfile('../../annotations/gender/%s.csv' % (fileid), '%s/%s.sgs.csv' % (curdir, fileid))\n",
    "        shutil.copyfile('../../annotations/detailed_csv/%s.csv' % (fileid), '%s/%s.detailed.csv' % (curdir, fileid))\n",
    "\n",
    "df = pd.concat(ldf)\n",
    "df = df.drop('vad_difficulty', axis=1)\n",
    "df = df.sort_values('fileid').reset_index(drop=True)\n",
    "df.to_csv('%s/METADATA.csv' % dst, index=False)"
   ]
  },
  {
   "cell_type": "code",
   "execution_count": null,
   "id": "4054fb9a-07e3-4c90-88d0-a8d8b8fb7879",
   "metadata": {},
   "outputs": [],
   "source": [
    "shutil.make_archive('/tmp/inaGVAD', \"zip\", dst)"
   ]
  },
  {
   "cell_type": "code",
   "execution_count": null,
   "id": "eeb978df-b57f-4ef0-8ff5-6c293d8a2094",
   "metadata": {},
   "outputs": [],
   "source": []
  }
 ],
 "metadata": {
  "kernelspec": {
   "display_name": "Python 3 (ipykernel)",
   "language": "python",
   "name": "python3"
  },
  "language_info": {
   "codemirror_mode": {
    "name": "ipython",
    "version": 3
   },
   "file_extension": ".py",
   "mimetype": "text/x-python",
   "name": "python",
   "nbconvert_exporter": "python",
   "pygments_lexer": "ipython3",
   "version": "3.10.12"
  }
 },
 "nbformat": 4,
 "nbformat_minor": 5
}
